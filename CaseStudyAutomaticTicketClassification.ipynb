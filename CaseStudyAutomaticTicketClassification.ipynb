{
 "cells": [
  {
   "cell_type": "markdown",
   "id": "e4538d4a-b87d-4d23-9d6d-52f4df40ed61",
   "metadata": {},
   "source": [
    "# Automatic Ticket Classification\n",
    "Eeshan Gupta  \n",
    "eeshangpt@gmail.com"
   ]
  },
  {
   "cell_type": "markdown",
   "id": "f99d263b-3eaa-4266-b3ee-1d91a5ee80b5",
   "metadata": {},
   "source": [
    "## Introduction to Problem Statement"
   ]
  },
  {
   "cell_type": "markdown",
   "id": "e2f694a4-bcfd-4d48-b190-84181700ecd1",
   "metadata": {},
   "source": [
    "For a financial company, customer complaints carry a lot of importance, as they are often an indicator of the shortcomings in their products and services. If these complaints are resolved efficiently in time, they can bring down customer dissatisfaction to a minimum and retain them with stronger loyalty. This also gives them an idea of how to continuously improve their services to attract more customers."
   ]
  },
  {
   "cell_type": "markdown",
   "id": "9ea66411-40db-4368-b8b0-325435baf5a3",
   "metadata": {},
   "source": [
    "### Business goal\n",
    "\n",
    "You need to build a model that is able to classify customer complaints based on the products/services. By doing so, you can segregate these tickets into their relevant categories and, therefore, help in the quick resolution of the issue."
   ]
  },
  {
   "cell_type": "markdown",
   "id": "4e03384b-1235-4b79-a5ff-2709d1b1d15d",
   "metadata": {},
   "source": [
    "## Table of content\n",
    "\n",
    "1. [Introduction to problem statemtent](#Introduction-to-Problem-Statement)\n",
    "2. [Reading in the data](#)\n",
    "3. [Cleaning the data](#)\n",
    "4. [Pre-processing the data](#)\n",
    "5. [Data Visualization](#)\n",
    "6. [Feature Engineering](#)\n",
    "7. [Model Building](#)\n",
    "8. [Inferences from the model](#)"
   ]
  },
  {
   "cell_type": "markdown",
   "id": "c44738e0-dc94-4a6d-ab67-5911d992703a",
   "metadata": {},
   "source": [
    "## Reading the data\n",
    "\n",
    "### Installations and Imports"
   ]
  }
 ],
 "metadata": {
  "jupytext": {
   "formats": "ipynb,py:percent"
  },
  "kernelspec": {
   "display_name": "Python 3 (ipykernel)",
   "language": "python",
   "name": "python3"
  },
  "language_info": {
   "codemirror_mode": {
    "name": "ipython",
    "version": 3
   },
   "file_extension": ".py",
   "mimetype": "text/x-python",
   "name": "python",
   "nbconvert_exporter": "python",
   "pygments_lexer": "ipython3",
   "version": "3.10.13"
  }
 },
 "nbformat": 4,
 "nbformat_minor": 5
}
