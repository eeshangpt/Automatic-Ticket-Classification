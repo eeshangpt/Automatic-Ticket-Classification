{
 "cells": [
  {
   "cell_type": "markdown",
   "id": "e4538d4a-b87d-4d23-9d6d-52f4df40ed61",
   "metadata": {},
   "source": [
    "# Automatic Ticket Classification\n",
    "Eeshan Gupta  \n",
    "eeshangpt@gmail.com"
   ]
  },
  {
   "cell_type": "markdown",
   "id": "f99d263b-3eaa-4266-b3ee-1d91a5ee80b5",
   "metadata": {},
   "source": [
    "## Introduction to Problem Statement"
   ]
  },
  {
   "cell_type": "markdown",
   "id": "e2f694a4-bcfd-4d48-b190-84181700ecd1",
   "metadata": {},
   "source": [
    "For a financial company, customer complaints carry a lot of importance, as they are often an indicator of the shortcomings in their products and services. If these complaints are resolved efficiently in time, they can bring down customer dissatisfaction to a minimum and retain them with stronger loyalty. This also gives them an idea of how to continuously improve their services to attract more customers."
   ]
  },
  {
   "cell_type": "markdown",
   "id": "9ea66411-40db-4368-b8b0-325435baf5a3",
   "metadata": {},
   "source": [
    "### Business goal\n",
    "\n",
    "You need to build a model that is able to classify customer complaints based on the products/services. By doing so, you can segregate these tickets into their relevant categories and, therefore, help in the quick resolution of the issue."
   ]
  },
  {
   "cell_type": "markdown",
   "id": "4e03384b-1235-4b79-a5ff-2709d1b1d15d",
   "metadata": {},
   "source": [
    "## Table of content\n",
    "\n",
    "1. [Introduction to problem statemtent](#Introduction-to-Problem-Statement)\n",
    "2. [Reading in the data](#Reading-the-data)\n",
    "3. [Cleaning the data](#Cleaning-the-data)\n",
    "4. [Pre-processing the data](#Pre-Proccessing-the-data)\n",
    "5. [Data Visualization](#Data-Visualization)\n",
    "6. [Feature Engineering](#)\n",
    "7. [Model Building](#)\n",
    "8. [Inferences from the model](#)"
   ]
  },
  {
   "cell_type": "markdown",
   "id": "c44738e0-dc94-4a6d-ab67-5911d992703a",
   "metadata": {},
   "source": [
    "## Reading the data\n",
    "\n",
    "### Installations and Imports"
   ]
  },
  {
   "cell_type": "raw",
   "id": "8bde4e53-28f8-4cf9-84d4-476e5810262b",
   "metadata": {
    "scrolled": true
   },
   "source": [
    "!pip install -U gensim\n",
    "!pip install contractions\n",
    "!pip install swifter\n",
    "!pip install wordcloud\n",
    "!pip install plotly\n",
    "!pip install textblob\n",
    "\n",
    "!python -m spacy download en_core_web_sm"
   ]
  },
  {
   "cell_type": "code",
   "execution_count": 1,
   "id": "997e5b2b-c530-49c9-816b-74276b582665",
   "metadata": {},
   "outputs": [],
   "source": [
    "import json\n",
    "import os\n",
    "import pickle\n",
    "\n",
    "import numpy as np\n",
    "import pandas as pd\n",
    "import nltk\n",
    "\n",
    "import json \n",
    "import numpy as np\n",
    "import pandas as pd\n",
    "import re, nltk, spacy, string\n",
    "import en_core_web_sm\n",
    "import seaborn as sns\n",
    "import matplotlib.pyplot as plt\n",
    "\n",
    "\n",
    "from plotly.offline import plot\n",
    "import plotly.graph_objects as go\n",
    "import plotly.express as px\n",
    "\n",
    "from sklearn.feature_extraction.text import CountVectorizer, TfidfVectorizer\n",
    "from pprint import pprint\n",
    "\n",
    "import nltk\n",
    "from nltk.stem import WordNetLemmatizer\n",
    "\n",
    "from nltk import word_tokenize, pos_tag\n",
    "from nltk.corpus import stopwords\n",
    "\n",
    "import swifter \n",
    "from collections import Counter\n",
    "from wordcloud import WordCloud, STOPWORDS\n",
    "\n",
    "from gensim.corpora.dictionary import Dictionary\n",
    "from gensim.models.nmf import Nmf\n",
    "from gensim.models.coherencemodel import CoherenceModel\n",
    "from operator import itemgetter\n",
    "\n",
    "from sklearn.model_selection import train_test_split\n",
    "from sklearn.decomposition import NMF\n",
    "from sklearn.metrics import f1_score, classification_report, confusion_matrix\n",
    "from sklearn import naive_bayes # .MultinomialNB\n",
    "from sklearn.naive_bayes import MultinomialNB\n",
    "\n",
    "from textblob import TextBlob"
   ]
  },
  {
   "cell_type": "code",
   "execution_count": 2,
   "id": "3f9194d3-80ff-4acf-ad83-0f079e38ff26",
   "metadata": {},
   "outputs": [
    {
     "name": "stderr",
     "output_type": "stream",
     "text": [
      "[nltk_data] Downloading package punkt to /home/eeshan/nltk_data...\n",
      "[nltk_data]   Package punkt is already up-to-date!\n",
      "[nltk_data] Downloading package wordnet to /home/eeshan/nltk_data...\n",
      "[nltk_data]   Package wordnet is already up-to-date!\n",
      "[nltk_data] Downloading package averaged_perceptron_tagger to\n",
      "[nltk_data]     /home/eeshan/nltk_data...\n",
      "[nltk_data]   Package averaged_perceptron_tagger is already up-to-\n",
      "[nltk_data]       date!\n",
      "[nltk_data] Downloading package stopwords to /home/eeshan/nltk_data...\n",
      "[nltk_data]   Package stopwords is already up-to-date!\n"
     ]
    }
   ],
   "source": [
    "%matplotlib inline\n",
    "\n",
    "nltk.download('punkt')\n",
    "nltk.download('wordnet')\n",
    "nltk.download('averaged_perceptron_tagger')\n",
    "nltk.download('stopwords')\n",
    "\n",
    "pd.set_option('display.max_columns', None)\n",
    "pd.set_option('display.max_rows', 50)"
   ]
  },
  {
   "cell_type": "code",
   "execution_count": 3,
   "id": "1c3a6827-4c60-4934-877d-4b53509a4205",
   "metadata": {},
   "outputs": [],
   "source": [
    "model = spacy.load(\"en_core_web_sm\")\n",
    "nlp = en_core_web_sm.load()"
   ]
  },
  {
   "cell_type": "code",
   "execution_count": 4,
   "id": "e3b5067c-2dc7-4187-9230-1db4e0654a8e",
   "metadata": {},
   "outputs": [],
   "source": [
    "PRJ_DIR = os.getcwd()\n",
    "DATA_DIR = os.path.join(PRJ_DIR, 'data')"
   ]
  },
  {
   "cell_type": "code",
   "execution_count": 5,
   "id": "5ffc24de-169c-419b-9b56-32a9de7b490b",
   "metadata": {},
   "outputs": [],
   "source": [
    "file_name = 'complaints-2021-05-14_08_16.json'\n",
    "pkl_file_name = file_name + \".pkl\""
   ]
  },
  {
   "cell_type": "code",
   "execution_count": 6,
   "id": "08184abb-49de-4084-9c80-4a7f8c1b4868",
   "metadata": {},
   "outputs": [
    {
     "name": "stdout",
     "output_type": "stream",
     "text": [
      "Pickle found. Now loading...\n"
     ]
    }
   ],
   "source": [
    "try:\n",
    "    assert os.path.isfile(os.path.join(DATA_DIR, pkl_file_name))\n",
    "    print(\"Pickle found. Now loading...\")\n",
    "    with open(os.path.join(DATA_DIR, pkl_file_name), 'rb') as f:\n",
    "        data = pickle.load(f)\n",
    "except AssertionError as e:\n",
    "    print(\"Serialized file not found. Now reading the raw file....\")\n",
    "    with open(os.path.join(DATA_DIR, file_name)) as f:\n",
    "        data = json.load(f)\n",
    "    print(\"Raw file is read. Now pickling.....\")\n",
    "    with open(os.path.join(DATA_DIR, pkl_file_name), 'wb') as f:\n",
    "        pickle.dump(data, f)"
   ]
  },
  {
   "cell_type": "code",
   "execution_count": 7,
   "id": "e241ccaa-0209-4b92-a4aa-5e5ae2a401ca",
   "metadata": {
    "scrolled": true
   },
   "outputs": [],
   "source": [
    "df = pd.json_normalize(data)"
   ]
  },
  {
   "cell_type": "code",
   "execution_count": 8,
   "id": "9bc14ecf-7480-4586-b7a4-02f11e08b166",
   "metadata": {},
   "outputs": [
    {
     "data": {
      "text/html": [
       "<div>\n",
       "<style scoped>\n",
       "    .dataframe tbody tr th:only-of-type {\n",
       "        vertical-align: middle;\n",
       "    }\n",
       "\n",
       "    .dataframe tbody tr th {\n",
       "        vertical-align: top;\n",
       "    }\n",
       "\n",
       "    .dataframe thead th {\n",
       "        text-align: right;\n",
       "    }\n",
       "</style>\n",
       "<table border=\"1\" class=\"dataframe\">\n",
       "  <thead>\n",
       "    <tr style=\"text-align: right;\">\n",
       "      <th></th>\n",
       "      <th>_index</th>\n",
       "      <th>_type</th>\n",
       "      <th>_id</th>\n",
       "      <th>_score</th>\n",
       "      <th>_source.tags</th>\n",
       "      <th>_source.zip_code</th>\n",
       "      <th>_source.complaint_id</th>\n",
       "      <th>_source.issue</th>\n",
       "      <th>_source.date_received</th>\n",
       "      <th>_source.state</th>\n",
       "      <th>_source.consumer_disputed</th>\n",
       "      <th>_source.product</th>\n",
       "      <th>_source.company_response</th>\n",
       "      <th>_source.company</th>\n",
       "      <th>_source.submitted_via</th>\n",
       "      <th>_source.date_sent_to_company</th>\n",
       "      <th>_source.company_public_response</th>\n",
       "      <th>_source.sub_product</th>\n",
       "      <th>_source.timely</th>\n",
       "      <th>_source.complaint_what_happened</th>\n",
       "      <th>_source.sub_issue</th>\n",
       "      <th>_source.consumer_consent_provided</th>\n",
       "    </tr>\n",
       "  </thead>\n",
       "  <tbody>\n",
       "    <tr>\n",
       "      <th>70747</th>\n",
       "      <td>complaint-public-v2</td>\n",
       "      <td>complaint</td>\n",
       "      <td>1893447</td>\n",
       "      <td>0.0</td>\n",
       "      <td>None</td>\n",
       "      <td>917XX</td>\n",
       "      <td>1893447</td>\n",
       "      <td>Loan servicing, payments, escrow account</td>\n",
       "      <td>2016-04-25T12:00:00-05:00</td>\n",
       "      <td>CA</td>\n",
       "      <td>Yes</td>\n",
       "      <td>Mortgage</td>\n",
       "      <td>Closed with explanation</td>\n",
       "      <td>JPMORGAN CHASE &amp; CO.</td>\n",
       "      <td>Web</td>\n",
       "      <td>2016-04-25T12:00:00-05:00</td>\n",
       "      <td>None</td>\n",
       "      <td>Home equity loan or line of credit</td>\n",
       "      <td>Yes</td>\n",
       "      <td>I entered into a written repayment plan With C...</td>\n",
       "      <td>None</td>\n",
       "      <td>Consent provided</td>\n",
       "    </tr>\n",
       "    <tr>\n",
       "      <th>49879</th>\n",
       "      <td>complaint-public-v2</td>\n",
       "      <td>complaint</td>\n",
       "      <td>1008554</td>\n",
       "      <td>0.0</td>\n",
       "      <td>None</td>\n",
       "      <td>90016</td>\n",
       "      <td>1008554</td>\n",
       "      <td>Deposits and withdrawals</td>\n",
       "      <td>2014-08-29T12:00:00-05:00</td>\n",
       "      <td>CA</td>\n",
       "      <td>No</td>\n",
       "      <td>Bank account or service</td>\n",
       "      <td>Closed with explanation</td>\n",
       "      <td>JPMORGAN CHASE &amp; CO.</td>\n",
       "      <td>Web</td>\n",
       "      <td>2014-08-29T12:00:00-05:00</td>\n",
       "      <td>None</td>\n",
       "      <td>Checking account</td>\n",
       "      <td>Yes</td>\n",
       "      <td></td>\n",
       "      <td>None</td>\n",
       "      <td>N/A</td>\n",
       "    </tr>\n",
       "    <tr>\n",
       "      <th>56810</th>\n",
       "      <td>complaint-public-v2</td>\n",
       "      <td>complaint</td>\n",
       "      <td>2148428</td>\n",
       "      <td>0.0</td>\n",
       "      <td>None</td>\n",
       "      <td>53208</td>\n",
       "      <td>2148428</td>\n",
       "      <td>Problems caused by my funds being low</td>\n",
       "      <td>2016-10-05T12:00:00-05:00</td>\n",
       "      <td>WI</td>\n",
       "      <td>No</td>\n",
       "      <td>Bank account or service</td>\n",
       "      <td>Closed with explanation</td>\n",
       "      <td>JPMORGAN CHASE &amp; CO.</td>\n",
       "      <td>Referral</td>\n",
       "      <td>2016-10-07T12:00:00-05:00</td>\n",
       "      <td>None</td>\n",
       "      <td>Checking account</td>\n",
       "      <td>Yes</td>\n",
       "      <td></td>\n",
       "      <td>None</td>\n",
       "      <td>N/A</td>\n",
       "    </tr>\n",
       "    <tr>\n",
       "      <th>72788</th>\n",
       "      <td>complaint-public-v2</td>\n",
       "      <td>complaint</td>\n",
       "      <td>1531697</td>\n",
       "      <td>0.0</td>\n",
       "      <td>None</td>\n",
       "      <td>48180</td>\n",
       "      <td>1531697</td>\n",
       "      <td>Sale of account</td>\n",
       "      <td>2015-08-22T12:00:00-05:00</td>\n",
       "      <td>MI</td>\n",
       "      <td>No</td>\n",
       "      <td>Credit card</td>\n",
       "      <td>Closed with explanation</td>\n",
       "      <td>JPMORGAN CHASE &amp; CO.</td>\n",
       "      <td>Web</td>\n",
       "      <td>2015-08-22T12:00:00-05:00</td>\n",
       "      <td>None</td>\n",
       "      <td>None</td>\n",
       "      <td>Yes</td>\n",
       "      <td></td>\n",
       "      <td>None</td>\n",
       "      <td>Consent not provided</td>\n",
       "    </tr>\n",
       "    <tr>\n",
       "      <th>74604</th>\n",
       "      <td>complaint-public-v2</td>\n",
       "      <td>complaint</td>\n",
       "      <td>1594391</td>\n",
       "      <td>0.0</td>\n",
       "      <td>None</td>\n",
       "      <td>91387</td>\n",
       "      <td>1594391</td>\n",
       "      <td>Deposits and withdrawals</td>\n",
       "      <td>2015-10-06T12:00:00-05:00</td>\n",
       "      <td>CA</td>\n",
       "      <td>No</td>\n",
       "      <td>Bank account or service</td>\n",
       "      <td>Closed with monetary relief</td>\n",
       "      <td>JPMORGAN CHASE &amp; CO.</td>\n",
       "      <td>Web</td>\n",
       "      <td>2015-10-06T12:00:00-05:00</td>\n",
       "      <td>None</td>\n",
       "      <td>Other bank product/service</td>\n",
       "      <td>Yes</td>\n",
       "      <td></td>\n",
       "      <td>None</td>\n",
       "      <td>Consent not provided</td>\n",
       "    </tr>\n",
       "    <tr>\n",
       "      <th>6547</th>\n",
       "      <td>complaint-public-v2</td>\n",
       "      <td>complaint</td>\n",
       "      <td>3815009</td>\n",
       "      <td>0.0</td>\n",
       "      <td>None</td>\n",
       "      <td>79936</td>\n",
       "      <td>3815009</td>\n",
       "      <td>Other features, terms, or problems</td>\n",
       "      <td>2020-08-26T12:00:00-05:00</td>\n",
       "      <td>TX</td>\n",
       "      <td>N/A</td>\n",
       "      <td>Credit card or prepaid card</td>\n",
       "      <td>Closed with explanation</td>\n",
       "      <td>JPMORGAN CHASE &amp; CO.</td>\n",
       "      <td>Web</td>\n",
       "      <td>2020-08-26T12:00:00-05:00</td>\n",
       "      <td>None</td>\n",
       "      <td>General-purpose credit card or charge card</td>\n",
       "      <td>Yes</td>\n",
       "      <td></td>\n",
       "      <td>Other problem</td>\n",
       "      <td>Consent withdrawn</td>\n",
       "    </tr>\n",
       "    <tr>\n",
       "      <th>60920</th>\n",
       "      <td>complaint-public-v2</td>\n",
       "      <td>complaint</td>\n",
       "      <td>355256</td>\n",
       "      <td>0.0</td>\n",
       "      <td>None</td>\n",
       "      <td>97224</td>\n",
       "      <td>355256</td>\n",
       "      <td>Loan modification,collection,foreclosure</td>\n",
       "      <td>2013-03-14T12:00:00-05:00</td>\n",
       "      <td>OR</td>\n",
       "      <td>No</td>\n",
       "      <td>Mortgage</td>\n",
       "      <td>Closed with explanation</td>\n",
       "      <td>JPMORGAN CHASE &amp; CO.</td>\n",
       "      <td>Referral</td>\n",
       "      <td>2013-03-18T12:00:00-05:00</td>\n",
       "      <td>None</td>\n",
       "      <td>Other mortgage</td>\n",
       "      <td>Yes</td>\n",
       "      <td></td>\n",
       "      <td>None</td>\n",
       "      <td>N/A</td>\n",
       "    </tr>\n",
       "    <tr>\n",
       "      <th>77066</th>\n",
       "      <td>complaint-public-v2</td>\n",
       "      <td>complaint</td>\n",
       "      <td>3009507</td>\n",
       "      <td>0.0</td>\n",
       "      <td>None</td>\n",
       "      <td>76109</td>\n",
       "      <td>3009507</td>\n",
       "      <td>Managing an account</td>\n",
       "      <td>2018-09-04T12:00:00-05:00</td>\n",
       "      <td>TX</td>\n",
       "      <td>N/A</td>\n",
       "      <td>Checking or savings account</td>\n",
       "      <td>Closed with explanation</td>\n",
       "      <td>JPMORGAN CHASE &amp; CO.</td>\n",
       "      <td>Referral</td>\n",
       "      <td>2018-09-10T12:00:00-05:00</td>\n",
       "      <td>None</td>\n",
       "      <td>Checking account</td>\n",
       "      <td>Yes</td>\n",
       "      <td></td>\n",
       "      <td>Deposits and withdrawals</td>\n",
       "      <td>N/A</td>\n",
       "    </tr>\n",
       "    <tr>\n",
       "      <th>56310</th>\n",
       "      <td>complaint-public-v2</td>\n",
       "      <td>complaint</td>\n",
       "      <td>224175</td>\n",
       "      <td>0.0</td>\n",
       "      <td>None</td>\n",
       "      <td>28630</td>\n",
       "      <td>224175</td>\n",
       "      <td>Loan modification,collection,foreclosure</td>\n",
       "      <td>2013-01-08T12:00:00-05:00</td>\n",
       "      <td>NC</td>\n",
       "      <td>No</td>\n",
       "      <td>Mortgage</td>\n",
       "      <td>Closed with explanation</td>\n",
       "      <td>JPMORGAN CHASE &amp; CO.</td>\n",
       "      <td>Referral</td>\n",
       "      <td>2013-01-09T12:00:00-05:00</td>\n",
       "      <td>None</td>\n",
       "      <td>Other mortgage</td>\n",
       "      <td>Yes</td>\n",
       "      <td></td>\n",
       "      <td>None</td>\n",
       "      <td>N/A</td>\n",
       "    </tr>\n",
       "    <tr>\n",
       "      <th>49573</th>\n",
       "      <td>complaint-public-v2</td>\n",
       "      <td>complaint</td>\n",
       "      <td>1636876</td>\n",
       "      <td>0.0</td>\n",
       "      <td>None</td>\n",
       "      <td>20746</td>\n",
       "      <td>1636876</td>\n",
       "      <td>Identity theft / Fraud / Embezzlement</td>\n",
       "      <td>2015-11-03T12:00:00-05:00</td>\n",
       "      <td>MD</td>\n",
       "      <td>No</td>\n",
       "      <td>Credit card</td>\n",
       "      <td>Closed with explanation</td>\n",
       "      <td>JPMORGAN CHASE &amp; CO.</td>\n",
       "      <td>Referral</td>\n",
       "      <td>2015-11-13T12:00:00-05:00</td>\n",
       "      <td>None</td>\n",
       "      <td>None</td>\n",
       "      <td>Yes</td>\n",
       "      <td></td>\n",
       "      <td>None</td>\n",
       "      <td>N/A</td>\n",
       "    </tr>\n",
       "  </tbody>\n",
       "</table>\n",
       "</div>"
      ],
      "text/plain": [
       "                    _index      _type      _id  _score _source.tags  \\\n",
       "70747  complaint-public-v2  complaint  1893447     0.0         None   \n",
       "49879  complaint-public-v2  complaint  1008554     0.0         None   \n",
       "56810  complaint-public-v2  complaint  2148428     0.0         None   \n",
       "72788  complaint-public-v2  complaint  1531697     0.0         None   \n",
       "74604  complaint-public-v2  complaint  1594391     0.0         None   \n",
       "6547   complaint-public-v2  complaint  3815009     0.0         None   \n",
       "60920  complaint-public-v2  complaint   355256     0.0         None   \n",
       "77066  complaint-public-v2  complaint  3009507     0.0         None   \n",
       "56310  complaint-public-v2  complaint   224175     0.0         None   \n",
       "49573  complaint-public-v2  complaint  1636876     0.0         None   \n",
       "\n",
       "      _source.zip_code _source.complaint_id  \\\n",
       "70747            917XX              1893447   \n",
       "49879            90016              1008554   \n",
       "56810            53208              2148428   \n",
       "72788            48180              1531697   \n",
       "74604            91387              1594391   \n",
       "6547             79936              3815009   \n",
       "60920            97224               355256   \n",
       "77066            76109              3009507   \n",
       "56310            28630               224175   \n",
       "49573            20746              1636876   \n",
       "\n",
       "                                  _source.issue      _source.date_received  \\\n",
       "70747  Loan servicing, payments, escrow account  2016-04-25T12:00:00-05:00   \n",
       "49879                  Deposits and withdrawals  2014-08-29T12:00:00-05:00   \n",
       "56810     Problems caused by my funds being low  2016-10-05T12:00:00-05:00   \n",
       "72788                           Sale of account  2015-08-22T12:00:00-05:00   \n",
       "74604                  Deposits and withdrawals  2015-10-06T12:00:00-05:00   \n",
       "6547         Other features, terms, or problems  2020-08-26T12:00:00-05:00   \n",
       "60920  Loan modification,collection,foreclosure  2013-03-14T12:00:00-05:00   \n",
       "77066                       Managing an account  2018-09-04T12:00:00-05:00   \n",
       "56310  Loan modification,collection,foreclosure  2013-01-08T12:00:00-05:00   \n",
       "49573     Identity theft / Fraud / Embezzlement  2015-11-03T12:00:00-05:00   \n",
       "\n",
       "      _source.state _source.consumer_disputed              _source.product  \\\n",
       "70747            CA                       Yes                     Mortgage   \n",
       "49879            CA                        No      Bank account or service   \n",
       "56810            WI                        No      Bank account or service   \n",
       "72788            MI                        No                  Credit card   \n",
       "74604            CA                        No      Bank account or service   \n",
       "6547             TX                       N/A  Credit card or prepaid card   \n",
       "60920            OR                        No                     Mortgage   \n",
       "77066            TX                       N/A  Checking or savings account   \n",
       "56310            NC                        No                     Mortgage   \n",
       "49573            MD                        No                  Credit card   \n",
       "\n",
       "          _source.company_response       _source.company  \\\n",
       "70747      Closed with explanation  JPMORGAN CHASE & CO.   \n",
       "49879      Closed with explanation  JPMORGAN CHASE & CO.   \n",
       "56810      Closed with explanation  JPMORGAN CHASE & CO.   \n",
       "72788      Closed with explanation  JPMORGAN CHASE & CO.   \n",
       "74604  Closed with monetary relief  JPMORGAN CHASE & CO.   \n",
       "6547       Closed with explanation  JPMORGAN CHASE & CO.   \n",
       "60920      Closed with explanation  JPMORGAN CHASE & CO.   \n",
       "77066      Closed with explanation  JPMORGAN CHASE & CO.   \n",
       "56310      Closed with explanation  JPMORGAN CHASE & CO.   \n",
       "49573      Closed with explanation  JPMORGAN CHASE & CO.   \n",
       "\n",
       "      _source.submitted_via _source.date_sent_to_company  \\\n",
       "70747                   Web    2016-04-25T12:00:00-05:00   \n",
       "49879                   Web    2014-08-29T12:00:00-05:00   \n",
       "56810              Referral    2016-10-07T12:00:00-05:00   \n",
       "72788                   Web    2015-08-22T12:00:00-05:00   \n",
       "74604                   Web    2015-10-06T12:00:00-05:00   \n",
       "6547                    Web    2020-08-26T12:00:00-05:00   \n",
       "60920              Referral    2013-03-18T12:00:00-05:00   \n",
       "77066              Referral    2018-09-10T12:00:00-05:00   \n",
       "56310              Referral    2013-01-09T12:00:00-05:00   \n",
       "49573              Referral    2015-11-13T12:00:00-05:00   \n",
       "\n",
       "      _source.company_public_response  \\\n",
       "70747                            None   \n",
       "49879                            None   \n",
       "56810                            None   \n",
       "72788                            None   \n",
       "74604                            None   \n",
       "6547                             None   \n",
       "60920                            None   \n",
       "77066                            None   \n",
       "56310                            None   \n",
       "49573                            None   \n",
       "\n",
       "                              _source.sub_product _source.timely  \\\n",
       "70747          Home equity loan or line of credit            Yes   \n",
       "49879                            Checking account            Yes   \n",
       "56810                            Checking account            Yes   \n",
       "72788                                        None            Yes   \n",
       "74604                  Other bank product/service            Yes   \n",
       "6547   General-purpose credit card or charge card            Yes   \n",
       "60920                              Other mortgage            Yes   \n",
       "77066                            Checking account            Yes   \n",
       "56310                              Other mortgage            Yes   \n",
       "49573                                        None            Yes   \n",
       "\n",
       "                         _source.complaint_what_happened  \\\n",
       "70747  I entered into a written repayment plan With C...   \n",
       "49879                                                      \n",
       "56810                                                      \n",
       "72788                                                      \n",
       "74604                                                      \n",
       "6547                                                       \n",
       "60920                                                      \n",
       "77066                                                      \n",
       "56310                                                      \n",
       "49573                                                      \n",
       "\n",
       "              _source.sub_issue _source.consumer_consent_provided  \n",
       "70747                      None                  Consent provided  \n",
       "49879                      None                               N/A  \n",
       "56810                      None                               N/A  \n",
       "72788                      None              Consent not provided  \n",
       "74604                      None              Consent not provided  \n",
       "6547              Other problem                 Consent withdrawn  \n",
       "60920                      None                               N/A  \n",
       "77066  Deposits and withdrawals                               N/A  \n",
       "56310                      None                               N/A  \n",
       "49573                      None                               N/A  "
      ]
     },
     "execution_count": 8,
     "metadata": {},
     "output_type": "execute_result"
    }
   ],
   "source": [
    "df.sample(10)"
   ]
  },
  {
   "cell_type": "code",
   "execution_count": 9,
   "id": "dd3ba964-d5ec-4672-be8d-22bbfcc95f6e",
   "metadata": {},
   "outputs": [
    {
     "data": {
      "text/plain": [
       "Index(['_index', '_type', '_id', '_score', '_source.tags', '_source.zip_code',\n",
       "       '_source.complaint_id', '_source.issue', '_source.date_received',\n",
       "       '_source.state', '_source.consumer_disputed', '_source.product',\n",
       "       '_source.company_response', '_source.company', '_source.submitted_via',\n",
       "       '_source.date_sent_to_company', '_source.company_public_response',\n",
       "       '_source.sub_product', '_source.timely',\n",
       "       '_source.complaint_what_happened', '_source.sub_issue',\n",
       "       '_source.consumer_consent_provided'],\n",
       "      dtype='object')"
      ]
     },
     "execution_count": 9,
     "metadata": {},
     "output_type": "execute_result"
    }
   ],
   "source": [
    "df.columns "
   ]
  },
  {
   "cell_type": "markdown",
   "id": "29a3544c-8364-43d3-b6f5-f6e339845a3f",
   "metadata": {},
   "source": [
    "## Cleaning the data"
   ]
  },
  {
   "cell_type": "markdown",
   "id": "a4bd91c9-8b1a-40ae-9f1a-5f0798ee7a60",
   "metadata": {},
   "source": [
    "#### Making column labels human readable"
   ]
  },
  {
   "cell_type": "code",
   "execution_count": 10,
   "id": "e1abc714-5494-4446-aff9-fe0aeb1dacaa",
   "metadata": {},
   "outputs": [],
   "source": [
    "clean_col_names = {i: str(i).replace(\"_\",\"\").replace(\"source.\",\"\") for i in df.columns}\n",
    "df.rename(columns= clean_col_names, inplace=True)\n",
    "df.rename(columns={\"complaintwhathappened\":\"complaints\"}, inplace=True)"
   ]
  },
  {
   "cell_type": "code",
   "execution_count": 11,
   "id": "5dba69ec-dfbd-4017-92cb-8fad53617f8b",
   "metadata": {},
   "outputs": [
    {
     "name": "stdout",
     "output_type": "stream",
     "text": [
      "<class 'pandas.core.frame.DataFrame'>\n",
      "RangeIndex: 78313 entries, 0 to 78312\n",
      "Data columns (total 22 columns):\n",
      " #   Column                   Non-Null Count  Dtype  \n",
      "---  ------                   --------------  -----  \n",
      " 0   index                    78313 non-null  object \n",
      " 1   type                     78313 non-null  object \n",
      " 2   id                       78313 non-null  object \n",
      " 3   score                    78313 non-null  float64\n",
      " 4   tags                     10900 non-null  object \n",
      " 5   zipcode                  71556 non-null  object \n",
      " 6   complaintid              78313 non-null  object \n",
      " 7   issue                    78313 non-null  object \n",
      " 8   datereceived             78313 non-null  object \n",
      " 9   state                    76322 non-null  object \n",
      " 10  consumerdisputed         78313 non-null  object \n",
      " 11  product                  78313 non-null  object \n",
      " 12  companyresponse          78313 non-null  object \n",
      " 13  company                  78313 non-null  object \n",
      " 14  submittedvia             78313 non-null  object \n",
      " 15  datesenttocompany        78313 non-null  object \n",
      " 16  companypublicresponse    4 non-null      object \n",
      " 17  subproduct               67742 non-null  object \n",
      " 18  timely                   78313 non-null  object \n",
      " 19  complaints               78313 non-null  object \n",
      " 20  subissue                 32016 non-null  object \n",
      " 21  consumerconsentprovided  77305 non-null  object \n",
      "dtypes: float64(1), object(21)\n",
      "memory usage: 13.1+ MB\n"
     ]
    }
   ],
   "source": [
    "df.info()"
   ]
  },
  {
   "cell_type": "markdown",
   "id": "ad0263f8-0319-4dcc-b35a-1b206083c328",
   "metadata": {},
   "source": [
    "#### Finding NAs and blank values"
   ]
  },
  {
   "cell_type": "code",
   "execution_count": 12,
   "id": "2bffce76-3b0a-4223-94a8-e2d6cce37b10",
   "metadata": {},
   "outputs": [
    {
     "data": {
      "text/plain": [
       "index                          0\n",
       "type                           0\n",
       "id                             0\n",
       "score                          0\n",
       "tags                       67413\n",
       "zipcode                     6757\n",
       "complaintid                    0\n",
       "issue                          0\n",
       "datereceived                   0\n",
       "state                       1991\n",
       "consumerdisputed               0\n",
       "product                        0\n",
       "companyresponse                0\n",
       "company                        0\n",
       "submittedvia                   0\n",
       "datesenttocompany              0\n",
       "companypublicresponse      78309\n",
       "subproduct                 10571\n",
       "timely                         0\n",
       "complaints                 57241\n",
       "subissue                   46297\n",
       "consumerconsentprovided     1008\n",
       "dtype: int64"
      ]
     },
     "execution_count": 12,
     "metadata": {},
     "output_type": "execute_result"
    }
   ],
   "source": [
    "(df.isna() | (df[:] == '')).sum()"
   ]
  },
  {
   "cell_type": "markdown",
   "id": "1e5a304e-1f6a-4a2a-bfbe-dac1d180a17f",
   "metadata": {},
   "source": [
    "#### Replacing blanks"
   ]
  },
  {
   "cell_type": "code",
   "execution_count": 13,
   "id": "7b7cb729-f93e-4c45-98d5-ae7d68dc4c39",
   "metadata": {},
   "outputs": [],
   "source": [
    "df = df.replace(\"\", np.nan)"
   ]
  },
  {
   "cell_type": "code",
   "execution_count": 14,
   "id": "d59fd6ab-6932-45fb-a1eb-939705670f6e",
   "metadata": {},
   "outputs": [
    {
     "data": {
      "text/plain": [
       "index                       0.000000\n",
       "type                        0.000000\n",
       "id                          0.000000\n",
       "score                       0.000000\n",
       "tags                       86.081493\n",
       "zipcode                     8.628197\n",
       "complaintid                 0.000000\n",
       "issue                       0.000000\n",
       "datereceived                0.000000\n",
       "state                       2.542362\n",
       "consumerdisputed            0.000000\n",
       "product                     0.000000\n",
       "companyresponse             0.000000\n",
       "company                     0.000000\n",
       "submittedvia                0.000000\n",
       "datesenttocompany           0.000000\n",
       "companypublicresponse      99.994892\n",
       "subproduct                 13.498397\n",
       "timely                      0.000000\n",
       "complaints                 73.092590\n",
       "subissue                   59.117899\n",
       "consumerconsentprovided     1.287143\n",
       "dtype: float64"
      ]
     },
     "execution_count": 14,
     "metadata": {},
     "output_type": "execute_result"
    }
   ],
   "source": [
    "df.isna().sum() * 100 / df.shape[0]"
   ]
  },
  {
   "cell_type": "markdown",
   "id": "2317e34a-a32c-4af2-af0f-a3ecb772c96c",
   "metadata": {},
   "source": [
    "#### Removing blanks"
   ]
  },
  {
   "cell_type": "code",
   "execution_count": 15,
   "id": "111640b3-e53e-465e-9a7b-5fdeebaca047",
   "metadata": {},
   "outputs": [],
   "source": [
    "df_cleaned = df.dropna(subset=['complaints'])"
   ]
  },
  {
   "cell_type": "code",
   "execution_count": 16,
   "id": "e3ac75ec-e389-46ff-b2df-fd32b743c5b6",
   "metadata": {},
   "outputs": [
    {
     "name": "stdout",
     "output_type": "stream",
     "text": [
      "<class 'pandas.core.frame.DataFrame'>\n",
      "Int64Index: 21072 entries, 1 to 78312\n",
      "Data columns (total 22 columns):\n",
      " #   Column                   Non-Null Count  Dtype  \n",
      "---  ------                   --------------  -----  \n",
      " 0   index                    21072 non-null  object \n",
      " 1   type                     21072 non-null  object \n",
      " 2   id                       21072 non-null  object \n",
      " 3   score                    21072 non-null  float64\n",
      " 4   tags                     3816 non-null   object \n",
      " 5   zipcode                  16427 non-null  object \n",
      " 6   complaintid              21072 non-null  object \n",
      " 7   issue                    21072 non-null  object \n",
      " 8   datereceived             21072 non-null  object \n",
      " 9   state                    20929 non-null  object \n",
      " 10  consumerdisputed         21072 non-null  object \n",
      " 11  product                  21072 non-null  object \n",
      " 12  companyresponse          21072 non-null  object \n",
      " 13  company                  21072 non-null  object \n",
      " 14  submittedvia             21072 non-null  object \n",
      " 15  datesenttocompany        21072 non-null  object \n",
      " 16  companypublicresponse    2 non-null      object \n",
      " 17  subproduct               18963 non-null  object \n",
      " 18  timely                   21072 non-null  object \n",
      " 19  complaints               21072 non-null  object \n",
      " 20  subissue                 12896 non-null  object \n",
      " 21  consumerconsentprovided  21072 non-null  object \n",
      "dtypes: float64(1), object(21)\n",
      "memory usage: 3.7+ MB\n"
     ]
    }
   ],
   "source": [
    "df_cleaned.info()"
   ]
  },
  {
   "cell_type": "code",
   "execution_count": 17,
   "id": "6945d803-f94d-4371-a99b-80ef59874449",
   "metadata": {},
   "outputs": [
    {
     "name": "stdout",
     "output_type": "stream",
     "text": [
      "26.91% of original complaints can be used for processing\n"
     ]
    }
   ],
   "source": [
    "print(f\"{df_cleaned.shape[0] * 100 / df.shape[0]:.2f}% of original complaints can be used for processing\")"
   ]
  },
  {
   "cell_type": "markdown",
   "id": "cf8dd2e4-db54-4039-a236-5fb91b4c5d5a",
   "metadata": {},
   "source": [
    "**26.91% of original complaints can be used for processing**"
   ]
  },
  {
   "cell_type": "code",
   "execution_count": 18,
   "id": "4c1df31a-c575-42f0-90cb-cbcf7812c227",
   "metadata": {},
   "outputs": [],
   "source": [
    "del df"
   ]
  },
  {
   "cell_type": "markdown",
   "id": "2e63c263-279d-44dc-90da-cfe5989a9f90",
   "metadata": {},
   "source": [
    "## Pre-Proccessing the data"
   ]
  },
  {
   "cell_type": "code",
   "execution_count": 19,
   "id": "f2b60946-fcf4-4c30-9dcc-1ba1dc86a72b",
   "metadata": {},
   "outputs": [
    {
     "name": "stdout",
     "output_type": "stream",
     "text": [
      "Hello. I am writing to get help on unfair pratices used with credit and debit card checking accounts via chase bank. I recently authorized a payment in the amount of XXXX to a company called XXXX for credit repair services on XXXX XXXX XXXX, XXXX. I orginally authorized only XXXX} and when I saw the XXXX  charge, I called the representative at XXXX and they explained that they erroneously forgot to mention that an activation fee of XXXX would also be assessed. I saw the charge pending on my checking account via mobile banking on XXXX XXXX XXXX, XXXX. On XXXX XXXX, XXXX the payment was shown as posted and paid. I also used my debit card for other items as well during this time frame. I check my account regularly and noticed that all was well and I had no issues with NSF fees at all. On XXXX XXXX, XXXX my account had a positive balance of XXXX}. My husband sent me a XXXX payment of XXXX. I noticed that the funds later in the day was not shown as available after using my debit card for a purchase of XXXX. When I called Chase bank on XXXX XXXX XXXX, XXXX in the evening the representative stated to wait 24hours up to 3 days for posting since my husband sent from another bank and not Chase. Today on XXXX XXXX, XXXX the very next day, I checked my account and NOW see 3 NSF fee 's assessed and debits previously posted and paid now REVERSED because CHASE bank knew the charge from XXXX in the amount of XXXX had fallen off due to their rules I was told this morning that if a creditor does not accept their payment within 3 to 5 days from the date it was initiated, the payment then falls off and goes back as a credit to the consumer Me. Now, I feel that yesterday evening when XXXX DECIDED to take their payment from XXXX XXXX, XXXX, they should have shown up on my account yes, but as a pending charge for that day 's banking debits and not back to the original date and the bank is WRONG to reverse other debit entries that had already posted and had been paid. I am now being charged XXXX} times 3 XXXX in NSF fees and the initial charge itself from XXXX should be questioned. I asked the bank to restore my account and I was told NO. This is wrong.\n"
     ]
    }
   ],
   "source": [
    "for complaint in df_cleaned['complaints'].sample(1):\n",
    "    print(complaint)"
   ]
  },
  {
   "cell_type": "markdown",
   "id": "04b70f7e-0d47-403b-a158-b035ede11e18",
   "metadata": {},
   "source": [
    "#### Cleaning the text"
   ]
  },
  {
   "cell_type": "code",
   "execution_count": 20,
   "id": "9b57225a-22e3-4286-9630-c6390a7a83d0",
   "metadata": {},
   "outputs": [],
   "source": [
    "def cleanText(text):\n",
    "  text = text.lower()\n",
    "  text = re.sub(r'\\[|\\]',\"\",text)    # Remove text in square brackets \n",
    "  text = re.sub(r'[^\\w\\s]',\"\",text)  # Remove punctuation\n",
    "  text = re.sub(r'\\w*\\d\\w*',\"\",text) # Remove words containing numbers\n",
    "  return \" \".join(text.split())  # Remove unwanted empty spacs "
   ]
  },
  {
   "cell_type": "code",
   "execution_count": 21,
   "id": "fdc6a34b-c79d-43ec-8d98-7733b66eedbb",
   "metadata": {},
   "outputs": [
    {
     "data": {
      "application/vnd.jupyter.widget-view+json": {
       "model_id": "97de2c548f0d4346af7a6677fdaf8d89",
       "version_major": 2,
       "version_minor": 0
      },
      "text/plain": [
       "Pandas Apply:   0%|          | 0/21072 [00:00<?, ?it/s]"
      ]
     },
     "metadata": {},
     "output_type": "display_data"
    }
   ],
   "source": [
    "df_cleaned[\"complaints\"] = df_cleaned[\"complaints\"].swifter.apply(cleanText) "
   ]
  },
  {
   "cell_type": "code",
   "execution_count": 22,
   "id": "5b8e3b91-6de1-4550-98d6-afdcfddf7f80",
   "metadata": {},
   "outputs": [
    {
     "name": "stdout",
     "output_type": "stream",
     "text": [
      "ive held a couple of credit cards with chase for a total of about years after making a big payment made to my cards card chase responded by reducing my credit rating on two cards down to within of the balance on the card my credit rating suffered a xxxx point drop as a result and chase is using my lowered credit score as the justification for lowering my limit even though theyre the ones who did it throughout my history with chase ive never missed a payment and ive always paid more than the minimum monthly balance ive been the perfect customer since this particular card is a rewards card so i used the card instead of letting it sit after getting sick over the summer with xxxx my credit card use increased for a while but the extra use was paid off when my xxxx check came in chase says my increase in utilization was the reason for their cut in my credit limit\n"
     ]
    }
   ],
   "source": [
    "for complaint in df_cleaned['complaints'].sample(1):\n",
    "    print(complaint)"
   ]
  },
  {
   "cell_type": "markdown",
   "id": "1c1c4507-e5c2-4441-bdae-5dde4df051d2",
   "metadata": {},
   "source": [
    "#### Finding the length of compaints"
   ]
  },
  {
   "cell_type": "code",
   "execution_count": 23,
   "id": "0c1621b3-ef2e-4114-a359-33633cabb27a",
   "metadata": {},
   "outputs": [
    {
     "data": {
      "text/plain": [
       "count    21072.000000\n",
       "mean       243.966211\n",
       "std        259.961767\n",
       "min          1.000000\n",
       "25%         93.000000\n",
       "50%        175.000000\n",
       "75%        308.000000\n",
       "max       5276.000000\n",
       "Name: word_freq_complaints, dtype: float64"
      ]
     },
     "execution_count": 23,
     "metadata": {},
     "output_type": "execute_result"
    }
   ],
   "source": [
    "df_cleaned['word_freq_complaints'] = df_cleaned['complaints'].apply(lambda x: len(str(x).split(' ')))\n",
    "df_cleaned['word_freq_complaints'].describe()"
   ]
  },
  {
   "cell_type": "markdown",
   "id": "f84f8e11-c77e-4c05-a5fe-93262613f547",
   "metadata": {},
   "source": [
    "#### Lemmatizing the text"
   ]
  },
  {
   "cell_type": "code",
   "execution_count": 24,
   "id": "edc82dc6-951f-43c1-97c1-96c2a629b336",
   "metadata": {},
   "outputs": [],
   "source": [
    "stop_words = stopwords.words('english')\n",
    "lem = WordNetLemmatizer()"
   ]
  },
  {
   "cell_type": "code",
   "execution_count": 25,
   "id": "ff4bd0b9-dbbe-426d-ac5d-3575c494d5dd",
   "metadata": {},
   "outputs": [],
   "source": [
    "def lemmatize_text(text):     \n",
    "    lemmatized = []\n",
    "    doc = nlp(text)\n",
    "    for word in doc:\n",
    "        lemmatized.append(word.lemma_)\n",
    "    return \" \".join(lemmatized)"
   ]
  },
  {
   "cell_type": "code",
   "execution_count": 26,
   "id": "a6764ac2-627e-49ea-8f40-043e1b5d0c80",
   "metadata": {},
   "outputs": [],
   "source": [
    "def get_nouns(text):\n",
    "    blob = TextBlob(text)\n",
    "    return ' '.join([ word for (word,tag) in blob.tags if tag == \"NN\"])"
   ]
  },
  {
   "cell_type": "code",
   "execution_count": null,
   "id": "6c9c0306-3f78-4fe7-9438-b9c02962de39",
   "metadata": {},
   "outputs": [
    {
     "data": {
      "application/vnd.jupyter.widget-view+json": {
       "model_id": "78d3ebf770054faba61f02bfc9258746",
       "version_major": 2,
       "version_minor": 0
      },
      "text/plain": [
       "Pandas Apply:   0%|          | 0/21072 [00:00<?, ?it/s]"
      ]
     },
     "metadata": {},
     "output_type": "display_data"
    }
   ],
   "source": [
    "df_cleaned['lemmatized_complaints'] = df_cleaned['complaints'].swifter.apply(lemmatize_text).swifter.apply(get_nouns)"
   ]
  },
  {
   "cell_type": "markdown",
   "id": "08fbaa12-d1f8-400c-944d-b3b51c2f1f28",
   "metadata": {},
   "source": [
    "#### Only keeping the Complaints and Lemmatized Complaints for further processing"
   ]
  },
  {
   "cell_type": "code",
   "execution_count": null,
   "id": "93d978b1-a4c0-4ed5-8a69-fb89dee7524a",
   "metadata": {},
   "outputs": [],
   "source": [
    "df_cleaned = df_cleaned[['complaints','lemmatized_complaints']]"
   ]
  },
  {
   "cell_type": "code",
   "execution_count": null,
   "id": "29518e78-002c-47f8-b606-4c3ec7eaa021",
   "metadata": {},
   "outputs": [],
   "source": [
    "df_cleaned.sample(1)"
   ]
  },
  {
   "cell_type": "markdown",
   "id": "08d67263-b8c1-42c6-8a57-34072da82e31",
   "metadata": {},
   "source": [
    "#### Extracing POS Tags"
   ]
  },
  {
   "cell_type": "code",
   "execution_count": null,
   "id": "c12c9946-b75b-49ff-a7d1-d37daeb1e93a",
   "metadata": {},
   "outputs": [],
   "source": [
    "def extract_POS_tags(text):\n",
    "  nouns =  [token for token, pos in pos_tag(word_tokenize(text)) if pos.startswith('N')]\n",
    "  return ' '.join(nouns)"
   ]
  },
  {
   "cell_type": "code",
   "execution_count": null,
   "id": "e5affcde-963d-4b4d-be13-a5384073e81c",
   "metadata": {},
   "outputs": [],
   "source": [
    "df_cleaned['complaint_POS_removed'] =  df_cleaned['lemmatized_complaints'].swifter.apply(extract_POS_tags)"
   ]
  },
  {
   "cell_type": "code",
   "execution_count": null,
   "id": "2886f06c-9f2a-44a8-b4b2-7d9124ba861d",
   "metadata": {},
   "outputs": [],
   "source": [
    "df_cleaned.sample(5)"
   ]
  },
  {
   "cell_type": "markdown",
   "id": "3a146ae7-937c-4290-8e12-e09cd1ad39d1",
   "metadata": {},
   "source": [
    "## Data Visualization"
   ]
  },
  {
   "cell_type": "markdown",
   "id": "0f35e434-605b-49ae-b78b-7d6782a86c3d",
   "metadata": {},
   "source": [
    "#### Length of complaints"
   ]
  },
  {
   "cell_type": "code",
   "execution_count": null,
   "id": "665f93d0-bf25-4d7c-9ca0-bc22fb7a1526",
   "metadata": {},
   "outputs": [],
   "source": [
    "df_cleaned[\"complaint_length\"] = df_cleaned[\"complaints\"].apply(len)"
   ]
  },
  {
   "cell_type": "code",
   "execution_count": null,
   "id": "f27bd3ec-be65-4d65-945f-1229de91bd4e",
   "metadata": {},
   "outputs": [],
   "source": [
    "fig = plt.figure(figsize=(10,6))\n",
    "plt.hist(df_cleaned['complaint_length'], bins=50)\n",
    "plt.title('Distribution of Complaint length', fontsize=20)\n",
    "plt.ylabel('Number of complaints', fontsize=14)\n",
    "plt.xlabel('Complaint character length', fontsize=14)\n",
    "plt.show()"
   ]
  },
  {
   "cell_type": "markdown",
   "id": "51b5cb46-1f12-4dda-86f0-cc763727e779",
   "metadata": {},
   "source": [
    "#### Word Cloud"
   ]
  },
  {
   "cell_type": "code",
   "execution_count": null,
   "id": "5f3f1d16-3c50-40bc-a8dd-c0719cfc2ae8",
   "metadata": {},
   "outputs": [],
   "source": [
    "stopwords = set(STOPWORDS)"
   ]
  },
  {
   "cell_type": "code",
   "execution_count": null,
   "id": "ae44bcb3-33f5-4919-8582-360b4ea98ad0",
   "metadata": {},
   "outputs": [],
   "source": [
    "wordcloud = WordCloud(background_color = 'black', width = 800, height = 400, stopwords = stopwords,\n",
    "                      colormap = 'viridis', max_words = 180, contour_width = 3,\n",
    "                      max_font_size = 80, contour_color = 'steelblue',\n",
    "                      random_state = 0).generate(str(df_cleaned['complaint_POS_removed']))\n",
    "\n",
    "fig = plt.figure(figsize=(20,15))\n",
    "plt.imshow(wordcloud)"
   ]
  },
  {
   "cell_type": "markdown",
   "id": "11d271c3-c37d-4a93-a9e4-ad16a22c20ac",
   "metadata": {},
   "source": [
    "#### Cleaning POS Tags"
   ]
  },
  {
   "cell_type": "code",
   "execution_count": null,
   "id": "48527f66-632b-4453-9413-983ba6789a91",
   "metadata": {},
   "outputs": [],
   "source": [
    "df_cleaned['complaint_clean'] = df_cleaned['complaint_POS_removed'].str.replace('-PRON-', '')\n",
    "df_cleaned.sample(5)"
   ]
  },
  {
   "cell_type": "markdown",
   "id": "a7772896-ad5f-4af7-a6fc-d386decefe78",
   "metadata": {},
   "source": [
    "#### Unigram, bigram and trigram analysis"
   ]
  },
  {
   "cell_type": "code",
   "execution_count": null,
   "id": "31abfc26-baa7-4cb4-9423-e25cffe9c0a7",
   "metadata": {},
   "outputs": [],
   "source": [
    "def get_top_unigrams(text, n=None):\n",
    "    vec = CountVectorizer(stop_words='english').fit(text)\n",
    "    bag_of_words = vec.transform(text)\n",
    "    sum_words = bag_of_words.sum(axis=0) \n",
    "    words_freq = [(word, sum_words[0, idx]) for word, idx in vec.vocabulary_.items()]\n",
    "    words_freq =sorted(words_freq, key = lambda x: x[1], reverse=True)\n",
    "    return words_freq[:n]"
   ]
  },
  {
   "cell_type": "code",
   "execution_count": null,
   "id": "6fd5f831-8847-4a32-be4d-65e13a136457",
   "metadata": {},
   "outputs": [],
   "source": [
    "common_words = get_top_unigrams(df_cleaned['complaint_clean'].values.astype('U'), 30)\n",
    "unigram = pd.DataFrame(common_words, columns = ['unigram' , 'count'])\n",
    "unigram.head(10)"
   ]
  },
  {
   "cell_type": "code",
   "execution_count": null,
   "id": "4f50f4c7-000c-4c44-a468-8ee03bbbc05b",
   "metadata": {},
   "outputs": [],
   "source": [
    "unigram_top_10 = unigram.sort_values('count', ascending=False).head(10)\n",
    "plt.figure(figsize=(10, 6))\n",
    "bars = plt.bar(unigram_top_10['unigram'], unigram_top_10['count'], color='skyblue')\n",
    "\n",
    "# Annotate bars with values\n",
    "for bar, freq in zip(bars, unigram_top_10['unigram']):\n",
    "    plt.text(bar.get_x() + bar.get_width() / 2, bar.get_height(), str(freq),\n",
    "             ha='center', va='bottom')\n",
    "\n",
    "plt.ylabel('Frequency')\n",
    "plt.title('Frequency of Unigrams')\n",
    "plt.xticks([])\n",
    "plt.show()"
   ]
  },
  {
   "cell_type": "code",
   "execution_count": null,
   "id": "9c40a20b-c159-49b0-879f-b329bd80c29c",
   "metadata": {},
   "outputs": [],
   "source": [
    "def get_top_bigrams(text, n=None):\n",
    "    vec = CountVectorizer(ngram_range=(2, 2), stop_words='english').fit(text)\n",
    "    bag_of_words = vec.transform(text)\n",
    "    sum_words = bag_of_words.sum(axis=0) \n",
    "    words_freq = [(word, sum_words[0, idx]) for word, idx in vec.vocabulary_.items()]\n",
    "    words_freq =sorted(words_freq, key = lambda x: x[1], reverse=True)\n",
    "    return words_freq[:n]"
   ]
  },
  {
   "cell_type": "code",
   "execution_count": null,
   "id": "ed516a18-2d4a-4486-8f3f-86e0bb7f3df8",
   "metadata": {},
   "outputs": [],
   "source": [
    "common_words = get_top_bigrams(df_cleaned['complaint_clean'].values.astype('U'), 30)\n",
    "bigram = pd.DataFrame(common_words, columns = ['bigram' , 'count'])\n",
    "bigram.head(10)"
   ]
  },
  {
   "cell_type": "code",
   "execution_count": null,
   "id": "de2628d3-6e24-4b4e-b3d1-0adb460bf21a",
   "metadata": {},
   "outputs": [],
   "source": [
    "bigram_top_10 = bigram.sort_values('count', ascending=False).head(10)\n",
    "plt.figure(figsize=(15, 6))\n",
    "bars = plt.bar(bigram_top_10['bigram'], bigram_top_10['count'], color='skyblue')\n",
    "\n",
    "# Annotate bars with values\n",
    "for bar, freq in zip(bars, bigram_top_10['bigram']):\n",
    "    plt.text(bar.get_x() + bar.get_width() / 2, bar.get_height(), str(freq),\n",
    "             ha='center', va='bottom')\n",
    "\n",
    "plt.ylabel('Frequency')\n",
    "plt.title('Frequency of Bigrams')\n",
    "plt.xticks([])\n",
    "plt.show()"
   ]
  },
  {
   "cell_type": "code",
   "execution_count": null,
   "id": "caf0a662-3481-47da-a146-9b50c06dc71e",
   "metadata": {},
   "outputs": [],
   "source": [
    "def get_top_trigrams(text, n=None):\n",
    "    vec = CountVectorizer(ngram_range=(3, 3), stop_words='english').fit(text)\n",
    "    bag_of_words = vec.transform(text)\n",
    "    sum_words = bag_of_words.sum(axis=0) \n",
    "    words_freq = [(word, sum_words[0, idx]) for word, idx in vec.vocabulary_.items()]\n",
    "    words_freq =sorted(words_freq, key = lambda x: x[1], reverse=True)\n",
    "    return words_freq[:n]"
   ]
  },
  {
   "cell_type": "code",
   "execution_count": null,
   "id": "e18ba3c3-6777-4f51-808c-797a964e5aad",
   "metadata": {},
   "outputs": [],
   "source": [
    "common_words = get_top_trigrams(df_cleaned['complaint_clean'].values.astype('U'), 30)\n",
    "trigram = pd.DataFrame(common_words, columns = ['trigram' , 'count'])\n",
    "trigram.head(10)"
   ]
  },
  {
   "cell_type": "code",
   "execution_count": null,
   "id": "aff94d5a-4f39-4a5b-b8e0-12b01622ea98",
   "metadata": {},
   "outputs": [],
   "source": [
    "trigram_top_10 = trigram.sort_values('count', ascending=False).head(8)\n",
    "plt.figure(figsize=(15, 6))\n",
    "bars = plt.bar(trigram_top_10['trigram'], trigram_top_10['count'], color='skyblue')\n",
    "\n",
    "# Annotate bars with values\n",
    "for bar, freq in zip(bars, trigram_top_10['trigram']):\n",
    "    plt.text(bar.get_x() + bar.get_width() / 2, bar.get_height(), str(freq),\n",
    "             ha='center', va='bottom')\n",
    "\n",
    "plt.ylabel('Frequency')\n",
    "plt.title('Frequency of Trigrams')\n",
    "plt.xticks([])\n",
    "plt.show()"
   ]
  },
  {
   "cell_type": "markdown",
   "id": "5157af4e-74e2-4f02-bcb4-ab68a177785f",
   "metadata": {},
   "source": [
    "#### Removing personal data marker from the text"
   ]
  },
  {
   "cell_type": "code",
   "execution_count": null,
   "id": "8d337902-822b-4868-9bf4-7125bba118e9",
   "metadata": {},
   "outputs": [],
   "source": [
    "def remove_allXX(text):\n",
    "  return re.sub('[x]{2,}',\"\",text)"
   ]
  },
  {
   "cell_type": "code",
   "execution_count": null,
   "id": "87715c86-0689-4c97-ab85-a24bec125802",
   "metadata": {},
   "outputs": [],
   "source": [
    "df_cleaned['complaint_clean'] = df_cleaned['complaint_clean'].swifter.apply(remove_allXX)"
   ]
  },
  {
   "cell_type": "code",
   "execution_count": null,
   "id": "60485164-ec0b-496a-b4c0-9fb71e65a460",
   "metadata": {},
   "outputs": [],
   "source": [
    "df_cleaned['complaint_clean'] = df_cleaned['complaint_clean'].str.replace('xxxx','')"
   ]
  },
  {
   "cell_type": "code",
   "execution_count": null,
   "id": "3ff64228-91e8-40c6-a936-9e5c53757e9d",
   "metadata": {},
   "outputs": [],
   "source": [
    "df_cleaned.sample(10)"
   ]
  },
  {
   "cell_type": "markdown",
   "id": "97fb3a3e-28a6-44c2-99ba-88c9010377f5",
   "metadata": {},
   "source": [
    "## Feature Engineering"
   ]
  },
  {
   "cell_type": "markdown",
   "id": "1de77db4-8fa6-4f9c-8677-414a4c0eadfd",
   "metadata": {},
   "source": [
    "#### TF-IDF Vectorization"
   ]
  },
  {
   "cell_type": "code",
   "execution_count": null,
   "id": "4a2a8036-59cf-48e6-aa77-f42abb994602",
   "metadata": {},
   "outputs": [],
   "source": [
    "tfidf_model = TfidfVectorizer(max_df=0.95, min_df=2, stop_words='english')"
   ]
  },
  {
   "cell_type": "code",
   "execution_count": null,
   "id": "9b6b6e8a-897a-4241-89e2-fc89e68df68f",
   "metadata": {},
   "outputs": [],
   "source": [
    "doc_term_mat = tfidf_model.fit_transform(df_cleaned['complaint_clean'])"
   ]
  },
  {
   "cell_type": "markdown",
   "id": "e0dd364b-400b-4444-907b-874ab4e47220",
   "metadata": {},
   "source": [
    "## Topic Modelling"
   ]
  },
  {
   "cell_type": "code",
   "execution_count": null,
   "id": "114ae77c-bfd1-4cc4-ae0d-c28346574c99",
   "metadata": {},
   "outputs": [],
   "source": [
    "texts = df_cleaned['complaint_clean']\n",
    "dataset = [d.split() for d in texts]"
   ]
  },
  {
   "cell_type": "code",
   "execution_count": null,
   "id": "94346a4c-fd0d-49eb-802e-558e6e346791",
   "metadata": {},
   "outputs": [],
   "source": [
    "dictionary = Dictionary(dataset)"
   ]
  },
  {
   "cell_type": "code",
   "execution_count": null,
   "id": "8dc8b946-3b08-4a44-a9b6-cad379a0ab2f",
   "metadata": {},
   "outputs": [],
   "source": [
    "dictionary.filter_extremes(\n",
    "    no_below=3,\n",
    "    no_above=0.85,\n",
    "    keep_n=5000\n",
    ")"
   ]
  },
  {
   "cell_type": "code",
   "execution_count": null,
   "id": "50ce20a9-fd15-4022-824f-f6ae1197c667",
   "metadata": {},
   "outputs": [],
   "source": [
    "corpus = [dictionary.doc2bow(text) for text in dataset]"
   ]
  },
  {
   "cell_type": "code",
   "execution_count": null,
   "id": "e619bcc9-1010-4e90-b4b2-d140eef80282",
   "metadata": {},
   "outputs": [],
   "source": [
    "topic_nums = list(np.arange(5, 10, 1))"
   ]
  },
  {
   "cell_type": "code",
   "execution_count": null,
   "id": "727f49a4-b312-4c96-9cb3-dcd4d3f8f159",
   "metadata": {},
   "outputs": [],
   "source": [
    "coherence_scores = []\n",
    "\n",
    "for num in topic_nums:\n",
    "    nmf = Nmf(\n",
    "        corpus=corpus,\n",
    "        num_topics=num,\n",
    "        id2word=dictionary,\n",
    "        chunksize=2000,\n",
    "        passes=5,\n",
    "        kappa=.1,\n",
    "        minimum_probability=0.01,\n",
    "        w_max_iter=300,\n",
    "        w_stop_condition=0.0001,\n",
    "        h_max_iter=100,\n",
    "        h_stop_condition=0.001,\n",
    "        eval_every=10,\n",
    "        normalize=True,\n",
    "        random_state=42\n",
    "    )\n",
    "    \n",
    "    # Run the coherence model to get the score\n",
    "    cm = CoherenceModel(\n",
    "        model=nmf,\n",
    "        texts=texts,\n",
    "        dictionary=dictionary,\n",
    "        coherence='c_v'\n",
    "    )\n",
    "    \n",
    "    coherence_scores.append(round(cm.get_coherence(), 5))"
   ]
  },
  {
   "cell_type": "code",
   "execution_count": null,
   "id": "bb001824-8718-49ae-859c-38da91e875f0",
   "metadata": {},
   "outputs": [],
   "source": [
    "scores = list(zip(topic_nums, coherence_scores))\n",
    "best_num_topics = sorted(scores, key=itemgetter(1), reverse=True)[0][0]\n",
    "\n",
    "print(best_num_topics)"
   ]
  },
  {
   "cell_type": "markdown",
   "id": "101c7c6c-8860-43e9-b854-684a791e322f",
   "metadata": {},
   "source": [
    "#### Manual Topic Modelling"
   ]
  },
  {
   "cell_type": "code",
   "execution_count": null,
   "id": "2ce01799-8a44-45cf-ba52-49759fadbaf1",
   "metadata": {},
   "outputs": [],
   "source": [
    "num_topics = 5"
   ]
  },
  {
   "cell_type": "code",
   "execution_count": null,
   "id": "0cb62440-0a80-401f-80af-ad5b2d403701",
   "metadata": {},
   "outputs": [],
   "source": [
    "nmf_model = NMF(n_components=5, random_state=40)"
   ]
  },
  {
   "cell_type": "code",
   "execution_count": null,
   "id": "3b3aada9-b93c-4040-9833-459b219388aa",
   "metadata": {},
   "outputs": [],
   "source": [
    "nmf_model.fit(doc_term_mat)\n",
    "len(tfidf_model.get_feature_names_out())"
   ]
  },
  {
   "cell_type": "code",
   "execution_count": null,
   "id": "5d47261d-de90-45ed-ada6-925fd48e1294",
   "metadata": {},
   "outputs": [],
   "source": [
    "for index,topic in enumerate(nmf_model.components_):\n",
    "    print(f'THE TOP 15 WORDS FOR TOPIC #{index}')\n",
    "    print([tfidf_model.get_feature_names_out()[i] for i in topic.argsort()[-15:]])\n",
    "    print('\\n')"
   ]
  },
  {
   "cell_type": "code",
   "execution_count": null,
   "id": "d7e96805-081b-4d34-b2f3-e030a335de9a",
   "metadata": {},
   "outputs": [],
   "source": [
    "topic_results = nmf_model.transform(doc_term_mat)\n",
    "topic_results[0].round(2)\n",
    "topic_results[0].argmax()\n",
    "topic_results.argmax(axis=1)"
   ]
  },
  {
   "cell_type": "code",
   "execution_count": null,
   "id": "ad96d3ed-c3c9-4067-9040-08338a801d02",
   "metadata": {},
   "outputs": [],
   "source": [
    "df_cleaned['topic'] = topic_results.argmax(axis=1) "
   ]
  },
  {
   "cell_type": "code",
   "execution_count": null,
   "id": "af1ecf34-c5c4-426b-8513-00a2ed9c32da",
   "metadata": {
    "scrolled": true
   },
   "outputs": [],
   "source": [
    "df_cleaned.head(10)"
   ]
  },
  {
   "cell_type": "code",
   "execution_count": null,
   "id": "9c61f7b0-cbc6-4c9d-9fe7-7b0e3215ac1d",
   "metadata": {
    "scrolled": true
   },
   "outputs": [],
   "source": [
    "# df_cleaned=df_cleaned.groupby('topic').head(5)\n",
    "# df_cleaned.sort_values('Topic')"
   ]
  },
  {
   "cell_type": "code",
   "execution_count": null,
   "id": "bfb6588d-4c27-4e29-b055-b7230da777cd",
   "metadata": {},
   "outputs": [],
   "source": []
  }
 ],
 "metadata": {
  "kernelspec": {
   "display_name": "Python 3 (ipykernel)",
   "language": "python",
   "name": "python3"
  },
  "language_info": {
   "codemirror_mode": {
    "name": "ipython",
    "version": 3
   },
   "file_extension": ".py",
   "mimetype": "text/x-python",
   "name": "python",
   "nbconvert_exporter": "python",
   "pygments_lexer": "ipython3",
   "version": "3.10.9"
  }
 },
 "nbformat": 4,
 "nbformat_minor": 5
}
